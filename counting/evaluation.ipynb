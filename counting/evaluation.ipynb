{
 "cells": [
  {
   "cell_type": "code",
   "execution_count": 1,
   "id": "196a2bc3-95d4-4a58-97e9-7e273b1c1347",
   "metadata": {},
   "outputs": [],
   "source": [
    "import os\n",
    "#from yolov5 import train, val, detect\n",
    "#from yolov5.utils import metrics\n",
    "\n",
    "from IPython.display import clear_output\n",
    "import torch\n",
    "\n",
    "from PIL import Image"
   ]
  },
  {
   "cell_type": "code",
   "execution_count": 2,
   "id": "c8f2641a-370f-4122-a945-5f8aaed02a77",
   "metadata": {},
   "outputs": [],
   "source": [
    "import pandas as pd\n",
    "import numpy as np\n",
    "import matplotlib.pyplot as plt\n",
    "%matplotlib inline\n",
    "from cv2 import cv2\n",
    "from torchvision import transforms"
   ]
  },
  {
   "cell_type": "code",
   "execution_count": 3,
   "id": "52af2326-3bfa-412c-b45c-e4485242400b",
   "metadata": {},
   "outputs": [],
   "source": [
    "IMAGES_LOCATION = \"/media/danil-pass123/E/DataSet/train1/train\"\n",
    "DATA = \"/media/danil-pass123/E/DataSet\"\n",
    "\n",
    "weights = DATA + '/exp/exp/weights/best.pt'\n",
    "runs_location = DATA + \"/runs_test\""
   ]
  },
  {
   "cell_type": "code",
   "execution_count": null,
   "id": "fcadfa01-c063-4921-9a21-fb173fc00e12",
   "metadata": {},
   "outputs": [],
   "source": [
    "#to disable warnings of pandas assignment\n",
    "pd.options.mode.chained_assignment = None\n",
    "def predict_bboxes(img):\n",
    "    \"\"\"\n",
    "    predicting bboxes for all images using yolo model\n",
    "    :param img: list[Image.Image]\n",
    "    :return: list[pd.DatafFrame]\n",
    "    \"\"\"\n",
    "    def make_bbox(df):\n",
    "        \"\"\"\n",
    "        filter bbox by confidence\n",
    "        :param df: pd.DataFrame\n",
    "        :return: dataframe with bbox\n",
    "        \"\"\"\n",
    "        filtered_df = df[df['confidence'] > 0.3]\n",
    "        bbox = filtered_df[['xmin', 'ymin', 'xmax', 'ymax']]\n",
    "        return bbox\n",
    "    \n",
    "    data = model(img)\n",
    "    bboxes = [make_bbox(im) for im in data.pandas().xyxy]\n",
    "    \n",
    "    return bboxes\n",
    "\n",
    "\n",
    "def count_animals(old_bboxes, new_bboxes, image1, image2):\n",
    "    \"\"\"\n",
    "    Count animals by difference between 2 dataframe with bboxes.\n",
    "    It returns number of new animals in new image\n",
    "    :param old_bboxes: pd.DataFrame\n",
    "    :param new_bboxes: pd.DataFrame\n",
    "    :return: int\n",
    "    \"\"\"\n",
    "    \n",
    "    def image_diff(bbox1,img1,img2):\n",
    "        x_min1,y_min1,x_max1,y_max1 = bbox1.values[-1].astype(int)\n",
    "        \n",
    "        x_min = max(x_min1-10,0)\n",
    "        y_min = max(y_min1-10,0)\n",
    "        x_max = x_max1+10\n",
    "        y_max = y_max1+10\n",
    "        \n",
    "        img1,img2 = convert_tensor(img1),convert_tensor(img2)\n",
    "        \n",
    "        difference = img1[:,x_min:x_max,y_min:y_max] - img2[:,x_min:x_max,y_min:y_max]\n",
    "        n_cells = ((x_max - x_min)*(y_max - y_min))\n",
    "        \n",
    "        return (difference).sum()/n_cells\n",
    "    \n",
    "    def new_obj_cond(bbox,img1,img2):\n",
    "        if image_diff(bbox,img1,img2)<0.3:\n",
    "            return False\n",
    "        return True\n",
    "            \n",
    "    \n",
    "    def exit_obj_cond(bbox,img1,img2):\n",
    "        if image_diff(bbox,img1,img2)<0.3:\n",
    "            return True\n",
    "        return False\n",
    "    \n",
    "    def cond(x, y) -> bool:\n",
    "        \"\"\"\n",
    "        return condition whether 2 bboxes are similar\n",
    "        Similarity can be changed, but for now it is euclidean distance between bboxes less than threshold.\n",
    "        :param x: iloc indexer of pd.DataFrame, indicating bbox\n",
    "        :param y: iloc indexer of pd.DataFrame, indicating bbox\n",
    "        :return: bool\n",
    "        \"\"\"\n",
    "        threshold = 20\n",
    "        x = torch.from_numpy(x.to_numpy())\n",
    "        y = torch.from_numpy(y.to_numpy())\n",
    "        x = x[[0,1]]\n",
    "        y = y[[0,1]]\n",
    "        s = (torch.sum((x - y)**2)**0.5).item()\n",
    "        return s < threshold\n",
    "    \"\"\"\n",
    "    def tracking(traker, image1, image2, box: pd.DataFrame) -> bool:\n",
    "        box = (box['xmin'], box['ymin'], box['xmax'] - box['xmin'], box['ymax'] - box['ymin'])\n",
    "        frame1 = cv2.cvtColor(np.array(image1), cv2.COLOR_RGB2GRAY)\n",
    "        tracker.init(frame1, box)\n",
    "        frame2 = cv2.cvtColor(np.array(image2), cv2.COLOR_RGB2GRAY)\n",
    "        status, bbox = traker.update(frame2)\n",
    "        return status\n",
    "    \"\"\"\n",
    "    #temporary data structures that saves whether certain bbox in similar to bbox from previous image\n",
    "    bbox = new_bboxes.copy()\n",
    "    prev_bbox = old_bboxes.copy()\n",
    "    prev_bbox['prev'] = False\n",
    "    bbox['prev'] = False\n",
    "    \n",
    "    \n",
    "    #mapping\n",
    "    for i in range(len(old_bboxes)):\n",
    "        for j in range(len(new_bboxes)):\n",
    "            #if bbox is already similar to bbox from previous image, then we don't need to check this bbox\n",
    "            if bbox.iloc[j]['prev'] or prev_bbox.iloc[i]['prev']:\n",
    "                continue\n",
    "            #similarity between bboxes from previous and present images\n",
    "            if cond(old_bboxes.iloc[i], new_bboxes.iloc[j]):\n",
    "                #save status of similarity\n",
    "                prev_bbox['prev'][i] = True\n",
    "                bbox['prev'][j] = True\n",
    "                continue\n",
    "            \n",
    "            \n",
    "            \"\"\"\n",
    "            tracker = cv2.TrackerKCF_create()\n",
    "            if tracking(tracker, image1, image2, old_bboxes.iloc[i].astype(int)):\n",
    "                print('tracking')\n",
    "                prev_bbox['prev'][i] = True\n",
    "                bbox['prev'][j] = True\n",
    "            \"\"\"\n",
    "    next_bbox = prev_bbox[prev_bbox['prev']==True].reindex().copy()\n",
    "    print(next_bbox)\n",
    "    \n",
    "    bbox = bbox[bbox['prev']==False].reindex().copy()\n",
    "    print(bbox)\n",
    "    for i in range(len(bbox)):\n",
    "        if new_obj_cond(bbox.iloc[i],image1, image2):\n",
    "            next_bbox = np.concatentate([next_bbox,bbox.iloc[i]])\n",
    "            \n",
    "    print(next_bbox)\n",
    "    \n",
    "    prev_bbox = prev_bbox[prev_bbox['prev']==False].reindex().copy()\n",
    "    for i in range(len(prev_bbox)):\n",
    "        if exit_obj_cond(prev_bbox.iloc[i],image1, image2):\n",
    "        \n",
    "    #return number of non-similar(new animals) bboxes\n",
    "    return bbox[bbox['prev'] == False].size.item()\n",
    "\n",
    "\n",
    "#def predict_sequence(images: list[Image.Image]):\n",
    "def predict_sequence(images):\n",
    "    bboxes = predict_bboxes(images)\n",
    "    #first image's bboxes are all animals\n",
    "    count = bboxes[0].shape[0]\n",
    "    for i in range(len(bboxes) - 1):\n",
    "        #check the difference between two images and return new animals\n",
    "        count += count_animals(bboxes[i], bboxes[i + 1], images[i], images[i + 1])\n",
    "    return count\n",
    "\n",
    "#def predict(files: list[str]):\n",
    "def predict(files):\n",
    "    \"\"\"\n",
    "    Prediction of number of animals in sequence of images.\n",
    "    :param files: list[str], str is path to file\n",
    "    :return: int\n",
    "    \"\"\"\n",
    "    try:\n",
    "        images = [Image.open(file) for file in files]\n",
    "    except:\n",
    "        return -1\n",
    "    return predict_sequence(images)"
   ]
  },
  {
   "cell_type": "code",
   "execution_count": null,
   "id": "4f057953-af0a-4a8b-a064-eb7056caa654",
   "metadata": {},
   "outputs": [],
   "source": [
    "def run_seq(seq_id: str) -> int:\n",
    "    \"\"\"\n",
    "    Run predictions for certain sequence providing seq_id.\n",
    "    :param seq_id: sequence\n",
    "    :return: int\n",
    "    \"\"\"\n",
    "    images = pd.read_csv(DATA+'/processed_train.csv', sep='\\t', index_col=0)\n",
    "    \n",
    "    seq = images[images['seq_id'] == seq_id]\n",
    "    image_dir = IMAGES_LOCATION + '/'\n",
    "    files = [image_dir + file for file in seq.sort_values(by='seq_frame_num')['file_name'].tolist()]\n",
    "    counts = predict(files)\n",
    "    #collect_sequence_metadate(seq_id,counts)\n",
    "    return counts"
   ]
  },
  {
   "cell_type": "markdown",
   "id": "ea16a5b5-29cf-441e-9fd6-e1342a94a507",
   "metadata": {},
   "source": [
    "# Metrics"
   ]
  },
  {
   "cell_type": "code",
   "execution_count": 4,
   "id": "5c9dee4a-42b8-45db-8ce9-c1c8477f7358",
   "metadata": {},
   "outputs": [],
   "source": [
    "seq_data = pd.read_csv(DATA + \"/seqs.csv\",sep='\\t',index_col=1)"
   ]
  },
  {
   "cell_type": "code",
   "execution_count": 5,
   "id": "2e4c9914-575f-4335-b522-eed64843b82c",
   "metadata": {},
   "outputs": [],
   "source": [
    "true_data = pd.read_csv(DATA+\"/train_sequence_counts.csv\",index_col=0)"
   ]
  },
  {
   "cell_type": "code",
   "execution_count": 6,
   "id": "91cbfe70-bc12-45c7-87d6-916574818ddf",
   "metadata": {},
   "outputs": [
    {
     "data": {
      "text/plain": [
       "2.035104155185716"
      ]
     },
     "execution_count": 6,
     "metadata": {},
     "output_type": "execute_result"
    }
   ],
   "source": [
    "mse = 0\n",
    "mse_array = []\n",
    "num_of_object_count = len(seq_data.index)\n",
    "for idx in true_data.index:\n",
    "    if pd.isnull(seq_data.loc[idx]['animal_count']) or pd.isnull(true_data.loc[idx]['count']):\n",
    "        print(idx)\n",
    "    else:\n",
    "        #print((seq_data.loc[idx]['animal_count'] - true_data.loc[idx]['count']))\n",
    "        val = (seq_data.loc[idx]['animal_count'] - true_data.loc[idx]['count'])\n",
    "        mse_array.append(val)\n",
    "        mse += val\n",
    "        #num_of_object_count+=1\n",
    "mse = mse/num_of_object_count\n",
    "mse"
   ]
  },
  {
   "cell_type": "code",
   "execution_count": 7,
   "id": "83fb2f08-111f-4441-a22a-63c04297a68a",
   "metadata": {},
   "outputs": [
    {
     "data": {
      "text/plain": [
       "[]"
      ]
     },
     "execution_count": 7,
     "metadata": {},
     "output_type": "execute_result"
    },
    {
     "data": {
      "image/png": "[encoded data removed]",
      "text/plain": [
       "<Figure size 432x288 with 1 Axes>"
      ]
     },
     "metadata": {
      "needs_background": "light"
     },
     "output_type": "display_data"
    }
   ],
   "source": [
    "plt.bar(range(len(mse_array)),mse_array)\n",
    "plt.plot()"
   ]
  }
 ],
 "metadata": {
  "kernelspec": {
   "display_name": "Python 3 (ipykernel)",
   "language": "python",
   "name": "python3"
  },
  "language_info": {
   "codemirror_mode": {
    "name": "ipython",
    "version": 3
   },
   "file_extension": ".py",
   "mimetype": "text/x-python",
   "name": "python",
   "nbconvert_exporter": "python",
   "pygments_lexer": "ipython3",
   "version": "3.8.8"
  }
 },
 "nbformat": 4,
 "nbformat_minor": 5
}
