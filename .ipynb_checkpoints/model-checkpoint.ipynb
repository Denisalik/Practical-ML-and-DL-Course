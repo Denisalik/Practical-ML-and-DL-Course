{
 "cells": [
  {
   "cell_type": "code",
   "execution_count": 1,
   "metadata": {
    "tags": []
   },
   "outputs": [],
   "source": [
    "import numpy as np\n",
    "import pandas as pd\n",
    "import matplotlib.pyplot as plt\n",
    "\n",
    "import os\n",
    "import json\n",
    "from pandas.io.json import json_normalize\n",
    "\n",
    "import torch\n",
    "from torchvision import transforms\n",
    "import torchvision.transforms.functional as F\n",
    "from torchvision.models.detection import fasterrcnn_resnet50_fpn, FasterRCNN_ResNet50_FPN_Weights\n",
    "from torchvision.utils import draw_bounding_boxes\n",
    "from torch.utils.data import Dataset, DataLoader\n",
    "from PIL import Image\n",
    "from torchvision.ops import box_iou"
   ]
  },
  {
   "cell_type": "code",
   "execution_count": 2,
   "metadata": {},
   "outputs": [],
   "source": [
    "from IPython.display import clear_output"
   ]
  },
  {
   "cell_type": "code",
   "execution_count": 3,
   "metadata": {
    "collapsed": false,
    "jupyter": {
     "outputs_hidden": false
    }
   },
   "outputs": [],
   "source": [
    "plt.rcParams[\"savefig.bbox\"] = \"tight\"\n",
    "\n",
    "def show(imgs):\n",
    "    if not isinstance(imgs, list):\n",
    "        imgs = [imgs]\n",
    "    fig, axs = plt.subplots(ncols=len(imgs), squeeze=False, figsize=(40, 40))\n",
    "    for i, img in enumerate(imgs):\n",
    "        img = img.detach()\n",
    "        img = F.to_pil_image(img)\n",
    "        axs[0, i].imshow(np.asarray(img))\n",
    "        axs[0, i].set(xticklabels=[], yticklabels=[], xticks=[], yticks=[])"
   ]
  },
  {
   "cell_type": "code",
   "execution_count": 4,
   "metadata": {
    "collapsed": false,
    "jupyter": {
     "outputs_hidden": false
    }
   },
   "outputs": [
    {
     "name": "stdout",
     "output_type": "stream",
     "text": [
      "archives\t\t\t     r-cnn-results\n",
      "data1.yaml\t\t\t     runs\n",
      "dataset\t\t\t\t     runs_test\n",
      "data.yaml\t\t\t     runs_train\n",
      "exp\t\t\t\t     seq_dataset\n",
      "exp.zip\t\t\t\t     seqs.csv\n",
      "gps_locations.json\t\t     test\n",
      "iwildcam2022_mdv4_detections.json    test1\n",
      "iwildcam2022_test_information.json   train\n",
      "iwildcam2022_train_annotations.json  train1\n",
      "media\t\t\t\t     train_sequence_counts.csv\n",
      "processed_test.csv\t\t     yolov5s.pt\n",
      "processed_train.csv\n"
     ]
    }
   ],
   "source": [
    " DATA = \"/media/danil-pass123/E/DataSet\"\n",
    "#DATA = './data'\n",
    "os.chdir(DATA)\n",
    "!ls"
   ]
  },
  {
   "cell_type": "code",
   "execution_count": 5,
   "metadata": {
    "collapsed": false,
    "jupyter": {
     "outputs_hidden": false
    }
   },
   "outputs": [
    {
     "ename": "TypeError",
     "evalue": "'type' object is not subscriptable",
     "output_type": "error",
     "traceback": [
      "\u001b[0;31m---------------------------------------------------------------------------\u001b[0m",
      "\u001b[0;31mTypeError\u001b[0m                                 Traceback (most recent call last)",
      "\u001b[0;32m/tmp/ipykernel_20851/782213705.py\u001b[0m in \u001b[0;36m<module>\u001b[0;34m\u001b[0m\n\u001b[0;32m----> 1\u001b[0;31m \u001b[0;32mdef\u001b[0m \u001b[0mget_label\u001b[0m\u001b[0;34m(\u001b[0m\u001b[0mfilename\u001b[0m\u001b[0;34m:\u001b[0m \u001b[0mstr\u001b[0m\u001b[0;34m,\u001b[0m \u001b[0mlabels\u001b[0m\u001b[0;34m:\u001b[0m \u001b[0mlist\u001b[0m\u001b[0;34m[\u001b[0m\u001b[0mdict\u001b[0m\u001b[0;34m]\u001b[0m\u001b[0;34m)\u001b[0m\u001b[0;34m:\u001b[0m\u001b[0;34m\u001b[0m\u001b[0;34m\u001b[0m\u001b[0m\n\u001b[0m\u001b[1;32m      2\u001b[0m     \u001b[0mrow\u001b[0m \u001b[0;34m=\u001b[0m \u001b[0mnext\u001b[0m\u001b[0;34m(\u001b[0m\u001b[0;34m(\u001b[0m\u001b[0mx\u001b[0m \u001b[0;32mfor\u001b[0m \u001b[0mx\u001b[0m \u001b[0;32min\u001b[0m \u001b[0mlabels\u001b[0m \u001b[0;32mif\u001b[0m \u001b[0mfilename\u001b[0m \u001b[0;34m==\u001b[0m \u001b[0mx\u001b[0m\u001b[0;34m[\u001b[0m\u001b[0;34m'file'\u001b[0m\u001b[0;34m]\u001b[0m\u001b[0;34m)\u001b[0m\u001b[0;34m,\u001b[0m \u001b[0;34m[\u001b[0m\u001b[0;32mNone\u001b[0m\u001b[0;34m]\u001b[0m\u001b[0;34m)\u001b[0m\u001b[0;34m\u001b[0m\u001b[0;34m\u001b[0m\u001b[0m\n\u001b[1;32m      3\u001b[0m     \u001b[0;32mif\u001b[0m \u001b[0mrow\u001b[0m \u001b[0;32mis\u001b[0m \u001b[0;32mNone\u001b[0m\u001b[0;34m:\u001b[0m\u001b[0;34m\u001b[0m\u001b[0;34m\u001b[0m\u001b[0m\n\u001b[1;32m      4\u001b[0m         \u001b[0;32mreturn\u001b[0m \u001b[0mrow\u001b[0m\u001b[0;34m\u001b[0m\u001b[0;34m\u001b[0m\u001b[0m\n\u001b[1;32m      5\u001b[0m     \u001b[0mdetections\u001b[0m \u001b[0;34m=\u001b[0m \u001b[0mrow\u001b[0m\u001b[0;34m[\u001b[0m\u001b[0;34m'detections'\u001b[0m\u001b[0;34m]\u001b[0m\u001b[0;34m\u001b[0m\u001b[0;34m\u001b[0m\u001b[0m\n",
      "\u001b[0;31mTypeError\u001b[0m: 'type' object is not subscriptable"
     ]
    }
   ],
   "source": [
    "def get_label(filename: str, labels: list[dict]):\n",
    "    row = next((x for x in labels if filename == x['file']), [None])\n",
    "    if row is None:\n",
    "        return row\n",
    "    detections = row['detections']\n",
    "    filtered_detections = list(filter(lambda x: x['category'] == '1' and x['conf'] > 0.5, detections))\n",
    "    bboxes = list(map(lambda x: x['bbox'], filtered_detections))\n",
    "    return json.dumps(bboxes)"
   ]
  },
  {
   "cell_type": "markdown",
   "metadata": {},
   "source": [
    "for every image:\n",
    "category=='animal' and conf>0.5\n",
    "return boxes"
   ]
  },
  {
   "cell_type": "code",
   "execution_count": null,
   "metadata": {
    "collapsed": false,
    "jupyter": {
     "outputs_hidden": false
    }
   },
   "outputs": [],
   "source": [
    "def get_data(images_json_path: str, labels_json_path: str, train: bool = True):\n",
    "    d = None\n",
    "    with open(labels_json_path) as f:\n",
    "        d = json.load(f)\n",
    "    labels = d['images']\n",
    "\n",
    "    with open(images_json_path) as f:\n",
    "        d = json.load(f)\n",
    "    images = json_normalize(data=d['images'],\n",
    "                   meta=['seq_num_frames', 'location', 'datetime', 'id', 'seq_id', 'width', 'height', 'file_name', 'sub_location', 'seq_frame_num'])\n",
    "    # annotations_df = json_normalize(data=d['annotations'],\n",
    "    #                              meta=['id', 'image_id', 'category_id'])\n",
    "    # categories_df = json_normalize(data=d['categories'],\n",
    "    #                             meta=['id', 'name'])\n",
    "\n",
    "    # return get_label('train/' + images.iloc[0]['file_name'], labels)\n",
    "    get_path = lambda x: get_label(filename=(('train/' if train else 'test/') + x['file_name']), labels=labels)\n",
    "    images['box'] = images.apply(get_path, axis=1)\n",
    "    return images"
   ]
  },
  {
   "cell_type": "code",
   "execution_count": null,
   "metadata": {
    "collapsed": false,
    "jupyter": {
     "outputs_hidden": false
    }
   },
   "outputs": [],
   "source": [
    "df = get_data('iwildcam2022_test_information.json', 'iwildcam2022_mdv4_detections.json', train=False)"
   ]
  },
  {
   "cell_type": "code",
   "execution_count": null,
   "metadata": {
    "collapsed": false,
    "jupyter": {
     "outputs_hidden": false
    }
   },
   "outputs": [],
   "source": [
    "df"
   ]
  },
  {
   "cell_type": "code",
   "execution_count": null,
   "metadata": {
    "collapsed": false,
    "jupyter": {
     "outputs_hidden": false
    }
   },
   "outputs": [],
   "source": [
    "df.to_csv('processed_test.csv', sep='\\t')"
   ]
  },
  {
   "cell_type": "code",
   "execution_count": 5,
   "metadata": {
    "collapsed": false,
    "jupyter": {
     "outputs_hidden": false
    }
   },
   "outputs": [
    {
     "data": {
      "text/html": [
       "<div>\n",
       "<style scoped>\n",
       "    .dataframe tbody tr th:only-of-type {\n",
       "        vertical-align: middle;\n",
       "    }\n",
       "\n",
       "    .dataframe tbody tr th {\n",
       "        vertical-align: top;\n",
       "    }\n",
       "\n",
       "    .dataframe thead th {\n",
       "        text-align: right;\n",
       "    }\n",
       "</style>\n",
       "<table border=\"1\" class=\"dataframe\">\n",
       "  <thead>\n",
       "    <tr style=\"text-align: right;\">\n",
       "      <th></th>\n",
       "      <th>height</th>\n",
       "      <th>id</th>\n",
       "      <th>seq_id</th>\n",
       "      <th>location</th>\n",
       "      <th>width</th>\n",
       "      <th>datetime</th>\n",
       "      <th>file_name</th>\n",
       "      <th>seq_frame_num</th>\n",
       "      <th>seq_num_frames</th>\n",
       "      <th>sub_location</th>\n",
       "      <th>box</th>\n",
       "    </tr>\n",
       "  </thead>\n",
       "  <tbody>\n",
       "    <tr>\n",
       "      <th>0</th>\n",
       "      <td>1024</td>\n",
       "      <td>8b31d3be-21bc-11ea-a13a-137349068a90</td>\n",
       "      <td>a91ebc18-0cd3-11eb-bed1-0242ac1c0002</td>\n",
       "      <td>20</td>\n",
       "      <td>1280</td>\n",
       "      <td>2013-06-09 16:01:38.000</td>\n",
       "      <td>8b31d3be-21bc-11ea-a13a-137349068a90.jpg</td>\n",
       "      <td>0</td>\n",
       "      <td>10</td>\n",
       "      <td>NaN</td>\n",
       "      <td>[[0, 0.55, 0.558, 0.438]]</td>\n",
       "    </tr>\n",
       "    <tr>\n",
       "      <th>1</th>\n",
       "      <td>1024</td>\n",
       "      <td>8cf202be-21bc-11ea-a13a-137349068a90</td>\n",
       "      <td>a91ebc18-0cd3-11eb-bed1-0242ac1c0002</td>\n",
       "      <td>20</td>\n",
       "      <td>1280</td>\n",
       "      <td>2013-06-09 16:01:39.000</td>\n",
       "      <td>8cf202be-21bc-11ea-a13a-137349068a90.jpg</td>\n",
       "      <td>1</td>\n",
       "      <td>10</td>\n",
       "      <td>NaN</td>\n",
       "      <td>[[0, 0.557, 0.684, 0.431]]</td>\n",
       "    </tr>\n",
       "    <tr>\n",
       "      <th>2</th>\n",
       "      <td>1024</td>\n",
       "      <td>8a87e62e-21bc-11ea-a13a-137349068a90</td>\n",
       "      <td>a91ebc18-0cd3-11eb-bed1-0242ac1c0002</td>\n",
       "      <td>20</td>\n",
       "      <td>1280</td>\n",
       "      <td>2013-06-09 16:01:40.000</td>\n",
       "      <td>8a87e62e-21bc-11ea-a13a-137349068a90.jpg</td>\n",
       "      <td>2</td>\n",
       "      <td>10</td>\n",
       "      <td>NaN</td>\n",
       "      <td>[[0, 0.418, 0.712, 0.581]]</td>\n",
       "    </tr>\n",
       "    <tr>\n",
       "      <th>3</th>\n",
       "      <td>1024</td>\n",
       "      <td>8e6994f4-21bc-11ea-a13a-137349068a90</td>\n",
       "      <td>a91ebc18-0cd3-11eb-bed1-0242ac1c0002</td>\n",
       "      <td>20</td>\n",
       "      <td>1280</td>\n",
       "      <td>2013-06-09 16:01:41.000</td>\n",
       "      <td>8e6994f4-21bc-11ea-a13a-137349068a90.jpg</td>\n",
       "      <td>3</td>\n",
       "      <td>10</td>\n",
       "      <td>NaN</td>\n",
       "      <td>[[0, 0.402, 0.673, 0.584]]</td>\n",
       "    </tr>\n",
       "    <tr>\n",
       "      <th>4</th>\n",
       "      <td>1024</td>\n",
       "      <td>948b29e2-21bc-11ea-a13a-137349068a90</td>\n",
       "      <td>a91ebc18-0cd3-11eb-bed1-0242ac1c0002</td>\n",
       "      <td>20</td>\n",
       "      <td>1280</td>\n",
       "      <td>2013-06-09 16:01:42.000</td>\n",
       "      <td>948b29e2-21bc-11ea-a13a-137349068a90.jpg</td>\n",
       "      <td>4</td>\n",
       "      <td>10</td>\n",
       "      <td>NaN</td>\n",
       "      <td>[[0, 0.547, 0.693, 0.439]]</td>\n",
       "    </tr>\n",
       "  </tbody>\n",
       "</table>\n",
       "</div>"
      ],
      "text/plain": [
       "   height                                    id  \\\n",
       "0    1024  8b31d3be-21bc-11ea-a13a-137349068a90   \n",
       "1    1024  8cf202be-21bc-11ea-a13a-137349068a90   \n",
       "2    1024  8a87e62e-21bc-11ea-a13a-137349068a90   \n",
       "3    1024  8e6994f4-21bc-11ea-a13a-137349068a90   \n",
       "4    1024  948b29e2-21bc-11ea-a13a-137349068a90   \n",
       "\n",
       "                                 seq_id  location  width  \\\n",
       "0  a91ebc18-0cd3-11eb-bed1-0242ac1c0002        20   1280   \n",
       "1  a91ebc18-0cd3-11eb-bed1-0242ac1c0002        20   1280   \n",
       "2  a91ebc18-0cd3-11eb-bed1-0242ac1c0002        20   1280   \n",
       "3  a91ebc18-0cd3-11eb-bed1-0242ac1c0002        20   1280   \n",
       "4  a91ebc18-0cd3-11eb-bed1-0242ac1c0002        20   1280   \n",
       "\n",
       "                  datetime                                 file_name  \\\n",
       "0  2013-06-09 16:01:38.000  8b31d3be-21bc-11ea-a13a-137349068a90.jpg   \n",
       "1  2013-06-09 16:01:39.000  8cf202be-21bc-11ea-a13a-137349068a90.jpg   \n",
       "2  2013-06-09 16:01:40.000  8a87e62e-21bc-11ea-a13a-137349068a90.jpg   \n",
       "3  2013-06-09 16:01:41.000  8e6994f4-21bc-11ea-a13a-137349068a90.jpg   \n",
       "4  2013-06-09 16:01:42.000  948b29e2-21bc-11ea-a13a-137349068a90.jpg   \n",
       "\n",
       "   seq_frame_num  seq_num_frames  sub_location                         box  \n",
       "0              0              10           NaN   [[0, 0.55, 0.558, 0.438]]  \n",
       "1              1              10           NaN  [[0, 0.557, 0.684, 0.431]]  \n",
       "2              2              10           NaN  [[0, 0.418, 0.712, 0.581]]  \n",
       "3              3              10           NaN  [[0, 0.402, 0.673, 0.584]]  \n",
       "4              4              10           NaN  [[0, 0.547, 0.693, 0.439]]  "
      ]
     },
     "execution_count": 5,
     "metadata": {},
     "output_type": "execute_result"
    }
   ],
   "source": [
    "#df = pd.read_csv('processed_test.csv', sep='\\t', index_col=0)\n",
    "df = pd.read_csv(DATA+'/processed_test.csv', sep='\\t', index_col=0)\n",
    "df.head()"
   ]
  },
  {
   "cell_type": "code",
   "execution_count": 6,
   "metadata": {},
   "outputs": [
    {
     "name": "stdout",
     "output_type": "stream",
     "text": [
      "11/602 10\n"
     ]
    }
   ],
   "source": [
    "hd_df = df[(df[\"height\"]==720) & (df[\"width\"]==1280)]\n",
    "is_available = [False for _ in range(len(hd_df))]\n",
    "for s,i in enumerate(hd_df['file_name']):\n",
    "    print(f'{s}/{len(hd_df)} {sum(is_available)}')\n",
    "    # path = DATA + \"/test/\" + i\n",
    "    path = './test/' + i\n",
    "    is_available[s] = os.path.isfile(path)\n",
    "    clear_output(wait=True)\n",
    "hd_df = hd_df[is_available]"
   ]
  },
  {
   "cell_type": "code",
   "execution_count": 7,
   "metadata": {},
   "outputs": [
    {
     "data": {
      "text/plain": [
       "(10, 11)"
      ]
     },
     "execution_count": 7,
     "metadata": {},
     "output_type": "execute_result"
    }
   ],
   "source": [
    "hd_df.shape"
   ]
  },
  {
   "cell_type": "code",
   "execution_count": 8,
   "metadata": {},
   "outputs": [],
   "source": [
    "#hd_df = hd_df[is_available]"
   ]
  },
  {
   "cell_type": "code",
   "execution_count": 13,
   "metadata": {
    "collapsed": false,
    "jupyter": {
     "outputs_hidden": false
    }
   },
   "outputs": [],
   "source": [
    "#def parse_bbox_tuple(labels: tuple[str]):\n",
    "def parse_bbox_tuple(labels):\n",
    "    return [json.loads(l) for l in labels]\n",
    "\n",
    "class CustomDataset(Dataset):\n",
    "    def __init__(self, df: pd.DataFrame, train: bool = True, transform=None):\n",
    "        self.labels = df['box']\n",
    "        self.images = df['file_name']\n",
    "        self.train = train\n",
    "        self.transform = transform\n",
    "\n",
    "    def __len__(self):\n",
    "        return self.images.shape[0]\n",
    "\n",
    "    def __getitem__(self, idx):\n",
    "        path = ('train/' if self.train else 'test/') + self.images.iloc[idx]\n",
    "        image = Image.open(path).convert('RGB')\n",
    "        label = self.labels.iloc[idx]\n",
    "        if self.transform:\n",
    "            image = self.transform(image)\n",
    "        return image, label, path\n",
    "\n",
    "BATCH_SIZE = 1\n",
    "#BATCH_SIZE = 4\n",
    "\n",
    "# full_hd_df = df[df[\"width\"]==1920]\n",
    "#df = df[is_available]\n",
    "#hd_df = df[(df[\"height\"]==720) & (df[\"width\"]==1280)]\n",
    "\n",
    "transform = transforms.Compose([\n",
    "    transforms.ToTensor(),\n",
    "])\n",
    "\n",
    "test_data = CustomDataset(hd_df, train=False, transform=transform)\n",
    "test_loader = DataLoader(test_data, batch_size=BATCH_SIZE, shuffle=True)"
   ]
  },
  {
   "cell_type": "code",
   "execution_count": 14,
   "metadata": {
    "collapsed": false,
    "jupyter": {
     "outputs_hidden": false
    }
   },
   "outputs": [],
   "source": [
    "model = fasterrcnn_resnet50_fpn(weights=FasterRCNN_ResNet50_FPN_Weights.DEFAULT)"
   ]
  },
  {
   "cell_type": "code",
   "execution_count": 15,
   "metadata": {
    "collapsed": false,
    "jupyter": {
     "outputs_hidden": false
    }
   },
   "outputs": [],
   "source": [
    "def squish_bboxes(bboxes: torch.Tensor, threshold: float = 100) -> np.ndarray:\n",
    "    indexes = set(range(len(bboxes)))\n",
    "    for i in range(len(bboxes)):\n",
    "        for j in range(i, len(bboxes)):\n",
    "            if i == j:\n",
    "                continue\n",
    "            if torch.sum(torch.abs(bboxes[i] - bboxes[j])).item() < threshold:\n",
    "                indexes.discard(j)\n",
    "    mask_array = np.zeros(len(bboxes), dtype=bool)\n",
    "    mask_array[list(indexes)] = True\n",
    "    return mask_array\n",
    "\n",
    "def filter_confidence(prediction: dict, confidence: float = 0.5):\n",
    "    pred = prediction['boxes'][prediction['scores'] > confidence]\n",
    "    mask = squish_bboxes(pred)\n",
    "    return pred[mask]\n",
    "mse_loss = lambda x,y: ((x-y)**2).mean()"
   ]
  },
  {
   "cell_type": "code",
   "execution_count": 16,
   "metadata": {
    "collapsed": false,
    "jupyter": {
     "outputs_hidden": false
    }
   },
   "outputs": [],
   "source": [
    "outdir = 'r-cnn-results'\n",
    "if not os.path.exists(outdir):\n",
    "    os.mkdir(outdir)"
   ]
  },
  {
   "cell_type": "code",
   "execution_count": null,
   "metadata": {
    "collapsed": false,
    "jupyter": {
     "outputs_hidden": false
    }
   },
   "outputs": [],
   "source": [
    "mse = 0\n",
    "showFirst = True\n",
    "model.eval()\n",
    "for i, (images, labels, path) in enumerate(test_loader):\n",
    "    y_pred = model(images)\n",
    "    filtered_y_pred = [filter_confidence(img, 0.6) for img in y_pred]\n",
    "    if showFirst:\n",
    "        for i in range(len(images)):\n",
    "            drawn_box = draw_bounding_boxes((images[i] * 255).to(torch.uint8), filtered_y_pred[i].to(torch.int16), colors='red', width=3)\n",
    "            show(drawn_box)\n",
    "        #showFirst = False\n",
    "    count_y_pred = [img.size()[0] for img in filtered_y_pred]\n",
    "    count_y_true = np.array([len(bboxes) for bboxes in parse_bbox_tuple(labels)])\n",
    "    mse += mse_loss(count_y_true, count_y_pred)\n",
    "    y_pred_bboxes = [json.dumps(tensor.tolist()) for tensor in filtered_y_pred]\n",
    "    result = pd.DataFrame({'y_true': list(labels), 'y_pred': y_pred_bboxes, 'image_path': path})\n",
    "    results_path = os.path.join(outdir, str(i) + '.csv')\n",
    "    result.to_csv(results_path, sep='\\t')\n",
    "    #print(i)\n",
    "    #clear_output(wait = True)\n",
    "    #break"
   ]
  },
  {
   "cell_type": "markdown",
   "metadata": {},
   "source": [
    "# Evaluate"
   ]
  },
  {
   "cell_type": "markdown",
   "metadata": {},
   "source": [
    "MSE"
   ]
  },
  {
   "cell_type": "code",
   "execution_count": 88,
   "metadata": {
    "collapsed": false,
    "jupyter": {
     "outputs_hidden": false
    }
   },
   "outputs": [
    {
     "data": {
      "text/plain": [
       "'MSE is: 20.0 for 480 images'"
      ]
     },
     "execution_count": 88,
     "metadata": {},
     "output_type": "execute_result"
    }
   ],
   "source": [
    "f\"MSE over counts of animals is: {mse} for {len(test_data)} images\""
   ]
  }
 ],
 "metadata": {
  "kernelspec": {
   "display_name": "Python 3 (ipykernel)",
   "language": "python",
   "name": "python3"
  },
  "language_info": {
   "codemirror_mode": {
    "name": "ipython",
    "version": 3
   },
   "file_extension": ".py",
   "mimetype": "text/x-python",
   "name": "python",
   "nbconvert_exporter": "python",
   "pygments_lexer": "ipython3",
   "version": "3.8.8"
  }
 },
 "nbformat": 4,
 "nbformat_minor": 4
}
