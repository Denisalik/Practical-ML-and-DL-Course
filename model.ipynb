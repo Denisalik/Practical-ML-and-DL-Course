{
 "cells": [
  {
   "cell_type": "code",
   "execution_count": 1,
   "metadata": {
    "tags": []
   },
   "outputs": [],
   "source": [
    "import numpy as np\n",
    "import pandas as pd\n",
    "import matplotlib.pyplot as plt\n",
    "\n",
    "import os\n",
    "import json\n",
    "from pandas.io.json import json_normalize\n",
    "\n",
    "import torch\n",
    "from torchvision import transforms\n",
    "from torch.utils.data import Dataset, DataLoader\n",
    "from torchvision.models.detection import fasterrcnn_resnet50_fpn\n",
    "from PIL import Image\n",
    "\n",
    "from typing import List, Dict\n",
    "\n",
    "from sklearn.model_selection import train_test_split"
   ]
  },
  {
   "cell_type": "markdown",
   "metadata": {},
   "source": [
    "# Preprocess Data"
   ]
  },
  {
   "cell_type": "code",
   "execution_count": 3,
   "metadata": {},
   "outputs": [],
   "source": [
    "data_location = ['data','/media/danil-pass123/Новый том/DataSet'][1]"
   ]
  },
  {
   "cell_type": "code",
   "execution_count": 4,
   "metadata": {
    "collapsed": false,
    "jupyter": {
     "outputs_hidden": false
    }
   },
   "outputs": [
    {
     "name": "stdout",
     "output_type": "stream",
     "text": [
      "archives\t\t\t     processed_train.csv\n",
      "gps_locations.json\t\t     test\n",
      "iwildcam2022_mdv4_detections.json    train\n",
      "iwildcam2022_test_information.json   train_sequence_counts.csv\n",
      "iwildcam2022_train_annotations.json\n"
     ]
    }
   ],
   "source": [
    "os.chdir(data_location)\n",
    "!ls"
   ]
  },
  {
   "cell_type": "code",
   "execution_count": 4,
   "metadata": {
    "collapsed": false,
    "jupyter": {
     "outputs_hidden": false
    }
   },
   "outputs": [],
   "source": [
    "def get_label(filename: str, labels: List[Dict]):\n",
    "    row = next((x for x in labels if filename == x['file']), [None])\n",
    "    if row is None:\n",
    "        return row\n",
    "    detections = row['detections']\n",
    "    filtered_detections = list(filter(lambda x: x['category'] == '1' and x['conf'] > 0.5, detections))\n",
    "    bboxes = list(map(lambda x: x['bbox'], filtered_detections))\n",
    "    return json.dumps(bboxes)"
   ]
  },
  {
   "cell_type": "markdown",
   "metadata": {},
   "source": [
    "for every image:\n",
    "category=='animal' and conf>0.5\n",
    "return boxes"
   ]
  },
  {
   "cell_type": "code",
   "execution_count": null,
   "metadata": {
    "collapsed": false,
    "jupyter": {
     "outputs_hidden": false
    }
   },
   "outputs": [],
   "source": [
    "def get_data(images_json_path: str, labels_json_path: str):\n",
    "    d = None\n",
    "    with open(labels_json_path) as f:\n",
    "        d = json.load(f)\n",
    "    labels = d['images']\n",
    "\n",
    "    with open(images_json_path) as f:\n",
    "        d = json.load(f)\n",
    "    images = json_normalize(data=d['images'],\n",
    "                   meta=['seq_num_frames', 'location', 'datetime', 'id', 'seq_id', 'width', 'height', 'file_name', 'sub_location', 'seq_frame_num'])\n",
    "    # annotations_df = json_normalize(data=d['annotations'],\n",
    "    #                              meta=['id', 'image_id', 'category_id'])\n",
    "    # categories_df = json_normalize(data=d['categories'],\n",
    "    #                             meta=['id', 'name'])\n",
    "\n",
    "    # return get_label('train/' + images.iloc[0]['file_name'], labels)\n",
    "    images['box'] = images.apply(lambda x: get_label('train/' + x['file_name'], labels), axis=1)\n",
    "    return images\n",
    "\n"
   ]
  },
  {
   "cell_type": "code",
   "execution_count": null,
   "metadata": {
    "collapsed": false,
    "jupyter": {
     "outputs_hidden": false
    }
   },
   "outputs": [],
   "source": [
    "df = get_data('iwildcam2022_train_annotations.json', 'iwildcam2022_mdv4_detections.json')"
   ]
  },
  {
   "cell_type": "code",
   "execution_count": null,
   "metadata": {
    "collapsed": false,
    "jupyter": {
     "outputs_hidden": false
    }
   },
   "outputs": [],
   "source": [
    "df"
   ]
  },
  {
   "cell_type": "code",
   "execution_count": 5,
   "metadata": {
    "collapsed": false,
    "jupyter": {
     "outputs_hidden": false
    }
   },
   "outputs": [
    {
     "ename": "NameError",
     "evalue": "name 'df' is not defined",
     "output_type": "error",
     "traceback": [
      "\u001b[0;31m---------------------------------------------------------------------------\u001b[0m",
      "\u001b[0;31mNameError\u001b[0m                                 Traceback (most recent call last)",
      "\u001b[0;32m/tmp/ipykernel_24598/2672356614.py\u001b[0m in \u001b[0;36m<module>\u001b[0;34m\u001b[0m\n\u001b[0;32m----> 1\u001b[0;31m \u001b[0mdf\u001b[0m\u001b[0;34m.\u001b[0m\u001b[0mto_csv\u001b[0m\u001b[0;34m(\u001b[0m\u001b[0;34m'processed_train.csv'\u001b[0m\u001b[0;34m,\u001b[0m \u001b[0msep\u001b[0m\u001b[0;34m=\u001b[0m\u001b[0;34m'\\t'\u001b[0m\u001b[0;34m)\u001b[0m\u001b[0;34m\u001b[0m\u001b[0;34m\u001b[0m\u001b[0m\n\u001b[0m",
      "\u001b[0;31mNameError\u001b[0m: name 'df' is not defined"
     ]
    }
   ],
   "source": [
    "df.to_csv('processed_train.csv', sep='\\t')"
   ]
  },
  {
   "cell_type": "code",
   "execution_count": 56,
   "metadata": {
    "collapsed": false,
    "jupyter": {
     "outputs_hidden": false
    }
   },
   "outputs": [
    {
     "data": {
      "text/html": [
       "<div>\n",
       "<style scoped>\n",
       "    .dataframe tbody tr th:only-of-type {\n",
       "        vertical-align: middle;\n",
       "    }\n",
       "\n",
       "    .dataframe tbody tr th {\n",
       "        vertical-align: top;\n",
       "    }\n",
       "\n",
       "    .dataframe thead th {\n",
       "        text-align: right;\n",
       "    }\n",
       "</style>\n",
       "<table border=\"1\" class=\"dataframe\">\n",
       "  <thead>\n",
       "    <tr style=\"text-align: right;\">\n",
       "      <th></th>\n",
       "      <th>seq_num_frames</th>\n",
       "      <th>location</th>\n",
       "      <th>datetime</th>\n",
       "      <th>id</th>\n",
       "      <th>seq_id</th>\n",
       "      <th>width</th>\n",
       "      <th>height</th>\n",
       "      <th>file_name</th>\n",
       "      <th>sub_location</th>\n",
       "      <th>seq_frame_num</th>\n",
       "      <th>box</th>\n",
       "    </tr>\n",
       "  </thead>\n",
       "  <tbody>\n",
       "    <tr>\n",
       "      <th>0</th>\n",
       "      <td>6</td>\n",
       "      <td>3</td>\n",
       "      <td>2013-06-05 05:44:19.000</td>\n",
       "      <td>8b02698a-21bc-11ea-a13a-137349068a90</td>\n",
       "      <td>30048d32-7d42-11eb-8fb5-0242ac1c0002</td>\n",
       "      <td>1920</td>\n",
       "      <td>1080</td>\n",
       "      <td>8b02698a-21bc-11ea-a13a-137349068a90.jpg</td>\n",
       "      <td>0.0</td>\n",
       "      <td>0</td>\n",
       "      <td>[[0, 0.091, 0.983, 0.876]]</td>\n",
       "    </tr>\n",
       "    <tr>\n",
       "      <th>1</th>\n",
       "      <td>6</td>\n",
       "      <td>3</td>\n",
       "      <td>2013-06-05 05:44:20.000</td>\n",
       "      <td>8e5b81de-21bc-11ea-a13a-137349068a90</td>\n",
       "      <td>30048d32-7d42-11eb-8fb5-0242ac1c0002</td>\n",
       "      <td>1920</td>\n",
       "      <td>1080</td>\n",
       "      <td>8e5b81de-21bc-11ea-a13a-137349068a90.jpg</td>\n",
       "      <td>0.0</td>\n",
       "      <td>1</td>\n",
       "      <td>[[0.193, 0.261, 0.803, 0.714]]</td>\n",
       "    </tr>\n",
       "    <tr>\n",
       "      <th>2</th>\n",
       "      <td>6</td>\n",
       "      <td>3</td>\n",
       "      <td>2013-06-05 05:44:21.000</td>\n",
       "      <td>8c6be0e4-21bc-11ea-a13a-137349068a90</td>\n",
       "      <td>30048d32-7d42-11eb-8fb5-0242ac1c0002</td>\n",
       "      <td>1920</td>\n",
       "      <td>1080</td>\n",
       "      <td>8c6be0e4-21bc-11ea-a13a-137349068a90.jpg</td>\n",
       "      <td>0.0</td>\n",
       "      <td>2</td>\n",
       "      <td>[[0.717, 0.412, 0.282, 0.558]]</td>\n",
       "    </tr>\n",
       "    <tr>\n",
       "      <th>3</th>\n",
       "      <td>6</td>\n",
       "      <td>3</td>\n",
       "      <td>2013-06-05 05:44:22.000</td>\n",
       "      <td>8fdf7998-21bc-11ea-a13a-137349068a90</td>\n",
       "      <td>30048d32-7d42-11eb-8fb5-0242ac1c0002</td>\n",
       "      <td>1920</td>\n",
       "      <td>1080</td>\n",
       "      <td>8fdf7998-21bc-11ea-a13a-137349068a90.jpg</td>\n",
       "      <td>0.0</td>\n",
       "      <td>3</td>\n",
       "      <td>[[0.772, 0.474, 0.226, 0.504]]</td>\n",
       "    </tr>\n",
       "    <tr>\n",
       "      <th>4</th>\n",
       "      <td>6</td>\n",
       "      <td>3</td>\n",
       "      <td>2013-06-05 05:44:23.000</td>\n",
       "      <td>96093c50-21bc-11ea-a13a-137349068a90</td>\n",
       "      <td>30048d32-7d42-11eb-8fb5-0242ac1c0002</td>\n",
       "      <td>1920</td>\n",
       "      <td>1080</td>\n",
       "      <td>96093c50-21bc-11ea-a13a-137349068a90.jpg</td>\n",
       "      <td>0.0</td>\n",
       "      <td>4</td>\n",
       "      <td>[[0.862, 0.539, 0.136, 0.43]]</td>\n",
       "    </tr>\n",
       "  </tbody>\n",
       "</table>\n",
       "</div>"
      ],
      "text/plain": [
       "   seq_num_frames  location                 datetime  \\\n",
       "0               6         3  2013-06-05 05:44:19.000   \n",
       "1               6         3  2013-06-05 05:44:20.000   \n",
       "2               6         3  2013-06-05 05:44:21.000   \n",
       "3               6         3  2013-06-05 05:44:22.000   \n",
       "4               6         3  2013-06-05 05:44:23.000   \n",
       "\n",
       "                                     id                                seq_id  \\\n",
       "0  8b02698a-21bc-11ea-a13a-137349068a90  30048d32-7d42-11eb-8fb5-0242ac1c0002   \n",
       "1  8e5b81de-21bc-11ea-a13a-137349068a90  30048d32-7d42-11eb-8fb5-0242ac1c0002   \n",
       "2  8c6be0e4-21bc-11ea-a13a-137349068a90  30048d32-7d42-11eb-8fb5-0242ac1c0002   \n",
       "3  8fdf7998-21bc-11ea-a13a-137349068a90  30048d32-7d42-11eb-8fb5-0242ac1c0002   \n",
       "4  96093c50-21bc-11ea-a13a-137349068a90  30048d32-7d42-11eb-8fb5-0242ac1c0002   \n",
       "\n",
       "   width  height                                 file_name  sub_location  \\\n",
       "0   1920    1080  8b02698a-21bc-11ea-a13a-137349068a90.jpg           0.0   \n",
       "1   1920    1080  8e5b81de-21bc-11ea-a13a-137349068a90.jpg           0.0   \n",
       "2   1920    1080  8c6be0e4-21bc-11ea-a13a-137349068a90.jpg           0.0   \n",
       "3   1920    1080  8fdf7998-21bc-11ea-a13a-137349068a90.jpg           0.0   \n",
       "4   1920    1080  96093c50-21bc-11ea-a13a-137349068a90.jpg           0.0   \n",
       "\n",
       "   seq_frame_num                             box  \n",
       "0              0      [[0, 0.091, 0.983, 0.876]]  \n",
       "1              1  [[0.193, 0.261, 0.803, 0.714]]  \n",
       "2              2  [[0.717, 0.412, 0.282, 0.558]]  \n",
       "3              3  [[0.772, 0.474, 0.226, 0.504]]  \n",
       "4              4   [[0.862, 0.539, 0.136, 0.43]]  "
      ]
     },
     "execution_count": 56,
     "metadata": {},
     "output_type": "execute_result"
    }
   ],
   "source": [
    "df = pd.read_csv('processed_train.csv', sep='\\t', index_col=0)\n",
    "df.head()"
   ]
  },
  {
   "cell_type": "code",
   "execution_count": 57,
   "metadata": {
    "collapsed": false,
    "jupyter": {
     "outputs_hidden": false
    }
   },
   "outputs": [
    {
     "data": {
      "text/html": [
       "<div>\n",
       "<style scoped>\n",
       "    .dataframe tbody tr th:only-of-type {\n",
       "        vertical-align: middle;\n",
       "    }\n",
       "\n",
       "    .dataframe tbody tr th {\n",
       "        vertical-align: top;\n",
       "    }\n",
       "\n",
       "    .dataframe thead th {\n",
       "        text-align: right;\n",
       "    }\n",
       "</style>\n",
       "<table border=\"1\" class=\"dataframe\">\n",
       "  <thead>\n",
       "    <tr style=\"text-align: right;\">\n",
       "      <th></th>\n",
       "      <th>seq_num_frames</th>\n",
       "      <th>location</th>\n",
       "      <th>datetime</th>\n",
       "      <th>id</th>\n",
       "      <th>seq_id</th>\n",
       "      <th>width</th>\n",
       "      <th>height</th>\n",
       "      <th>file_name</th>\n",
       "      <th>sub_location</th>\n",
       "      <th>seq_frame_num</th>\n",
       "      <th>box</th>\n",
       "      <th>is_exist</th>\n",
       "    </tr>\n",
       "  </thead>\n",
       "  <tbody>\n",
       "    <tr>\n",
       "      <th>0</th>\n",
       "      <td>6</td>\n",
       "      <td>3</td>\n",
       "      <td>2013-06-05 05:44:19.000</td>\n",
       "      <td>8b02698a-21bc-11ea-a13a-137349068a90</td>\n",
       "      <td>30048d32-7d42-11eb-8fb5-0242ac1c0002</td>\n",
       "      <td>1920</td>\n",
       "      <td>1080</td>\n",
       "      <td>8b02698a-21bc-11ea-a13a-137349068a90.jpg</td>\n",
       "      <td>0.0</td>\n",
       "      <td>0</td>\n",
       "      <td>[[0, 0.091, 0.983, 0.876]]</td>\n",
       "      <td>False</td>\n",
       "    </tr>\n",
       "    <tr>\n",
       "      <th>1</th>\n",
       "      <td>6</td>\n",
       "      <td>3</td>\n",
       "      <td>2013-06-05 05:44:20.000</td>\n",
       "      <td>8e5b81de-21bc-11ea-a13a-137349068a90</td>\n",
       "      <td>30048d32-7d42-11eb-8fb5-0242ac1c0002</td>\n",
       "      <td>1920</td>\n",
       "      <td>1080</td>\n",
       "      <td>8e5b81de-21bc-11ea-a13a-137349068a90.jpg</td>\n",
       "      <td>0.0</td>\n",
       "      <td>1</td>\n",
       "      <td>[[0.193, 0.261, 0.803, 0.714]]</td>\n",
       "      <td>False</td>\n",
       "    </tr>\n",
       "    <tr>\n",
       "      <th>2</th>\n",
       "      <td>6</td>\n",
       "      <td>3</td>\n",
       "      <td>2013-06-05 05:44:21.000</td>\n",
       "      <td>8c6be0e4-21bc-11ea-a13a-137349068a90</td>\n",
       "      <td>30048d32-7d42-11eb-8fb5-0242ac1c0002</td>\n",
       "      <td>1920</td>\n",
       "      <td>1080</td>\n",
       "      <td>8c6be0e4-21bc-11ea-a13a-137349068a90.jpg</td>\n",
       "      <td>0.0</td>\n",
       "      <td>2</td>\n",
       "      <td>[[0.717, 0.412, 0.282, 0.558]]</td>\n",
       "      <td>False</td>\n",
       "    </tr>\n",
       "  </tbody>\n",
       "</table>\n",
       "</div>"
      ],
      "text/plain": [
       "   seq_num_frames  location                 datetime  \\\n",
       "0               6         3  2013-06-05 05:44:19.000   \n",
       "1               6         3  2013-06-05 05:44:20.000   \n",
       "2               6         3  2013-06-05 05:44:21.000   \n",
       "\n",
       "                                     id                                seq_id  \\\n",
       "0  8b02698a-21bc-11ea-a13a-137349068a90  30048d32-7d42-11eb-8fb5-0242ac1c0002   \n",
       "1  8e5b81de-21bc-11ea-a13a-137349068a90  30048d32-7d42-11eb-8fb5-0242ac1c0002   \n",
       "2  8c6be0e4-21bc-11ea-a13a-137349068a90  30048d32-7d42-11eb-8fb5-0242ac1c0002   \n",
       "\n",
       "   width  height                                 file_name  sub_location  \\\n",
       "0   1920    1080  8b02698a-21bc-11ea-a13a-137349068a90.jpg           0.0   \n",
       "1   1920    1080  8e5b81de-21bc-11ea-a13a-137349068a90.jpg           0.0   \n",
       "2   1920    1080  8c6be0e4-21bc-11ea-a13a-137349068a90.jpg           0.0   \n",
       "\n",
       "   seq_frame_num                             box  is_exist  \n",
       "0              0      [[0, 0.091, 0.983, 0.876]]     False  \n",
       "1              1  [[0.193, 0.261, 0.803, 0.714]]     False  \n",
       "2              2  [[0.717, 0.412, 0.282, 0.558]]     False  "
      ]
     },
     "execution_count": 57,
     "metadata": {},
     "output_type": "execute_result"
    }
   ],
   "source": [
    "#Some files are not present at train folder\n",
    "exist_list = []\n",
    "for i in range(df.shape[0]):\n",
    "    exist_list.append(os.path.isfile(f'./train/{df[\"file_name\"][i]}'))\n",
    "df['is_exist'] = exist_list\n",
    "df.head(3)"
   ]
  },
  {
   "cell_type": "code",
   "execution_count": 58,
   "metadata": {},
   "outputs": [],
   "source": [
    "df = df[df['is_exist']]\n",
    "df.reset_index(drop=True,inplace=True)"
   ]
  },
  {
   "cell_type": "code",
   "execution_count": 59,
   "metadata": {},
   "outputs": [],
   "source": [
    "df = df[:5]"
   ]
  },
  {
   "cell_type": "code",
   "execution_count": 60,
   "metadata": {},
   "outputs": [
    {
     "data": {
      "text/html": [
       "<div>\n",
       "<style scoped>\n",
       "    .dataframe tbody tr th:only-of-type {\n",
       "        vertical-align: middle;\n",
       "    }\n",
       "\n",
       "    .dataframe tbody tr th {\n",
       "        vertical-align: top;\n",
       "    }\n",
       "\n",
       "    .dataframe thead th {\n",
       "        text-align: right;\n",
       "    }\n",
       "</style>\n",
       "<table border=\"1\" class=\"dataframe\">\n",
       "  <thead>\n",
       "    <tr style=\"text-align: right;\">\n",
       "      <th></th>\n",
       "      <th>seq_num_frames</th>\n",
       "      <th>location</th>\n",
       "      <th>datetime</th>\n",
       "      <th>id</th>\n",
       "      <th>seq_id</th>\n",
       "      <th>width</th>\n",
       "      <th>height</th>\n",
       "      <th>file_name</th>\n",
       "      <th>sub_location</th>\n",
       "      <th>seq_frame_num</th>\n",
       "      <th>box</th>\n",
       "      <th>is_exist</th>\n",
       "    </tr>\n",
       "  </thead>\n",
       "  <tbody>\n",
       "    <tr>\n",
       "      <th>0</th>\n",
       "      <td>10</td>\n",
       "      <td>10</td>\n",
       "      <td>2013-03-02 07:58:26.000</td>\n",
       "      <td>87cae3e6-21bc-11ea-a13a-137349068a90</td>\n",
       "      <td>302b4594-7d42-11eb-8fb5-0242ac1c0002</td>\n",
       "      <td>1920</td>\n",
       "      <td>1080</td>\n",
       "      <td>87cae3e6-21bc-11ea-a13a-137349068a90.jpg</td>\n",
       "      <td>NaN</td>\n",
       "      <td>7</td>\n",
       "      <td>[[0, 0.525, 0.387, 0.446]]</td>\n",
       "      <td>True</td>\n",
       "    </tr>\n",
       "    <tr>\n",
       "      <th>1</th>\n",
       "      <td>10</td>\n",
       "      <td>10</td>\n",
       "      <td>2013-03-02 07:58:27.000</td>\n",
       "      <td>87763080-21bc-11ea-a13a-137349068a90</td>\n",
       "      <td>302b4594-7d42-11eb-8fb5-0242ac1c0002</td>\n",
       "      <td>1920</td>\n",
       "      <td>1080</td>\n",
       "      <td>87763080-21bc-11ea-a13a-137349068a90.jpg</td>\n",
       "      <td>NaN</td>\n",
       "      <td>8</td>\n",
       "      <td>[[0.355, 0.579, 0.645, 0.393]]</td>\n",
       "      <td>True</td>\n",
       "    </tr>\n",
       "    <tr>\n",
       "      <th>2</th>\n",
       "      <td>6</td>\n",
       "      <td>336</td>\n",
       "      <td>2013-05-21 12:29:52.000</td>\n",
       "      <td>86899ed2-21bc-11ea-a13a-137349068a90</td>\n",
       "      <td>9650b9cc-21bc-11ea-a13a-137349068a90</td>\n",
       "      <td>2048</td>\n",
       "      <td>1536</td>\n",
       "      <td>86899ed2-21bc-11ea-a13a-137349068a90.jpg</td>\n",
       "      <td>NaN</td>\n",
       "      <td>2</td>\n",
       "      <td>[]</td>\n",
       "      <td>True</td>\n",
       "    </tr>\n",
       "    <tr>\n",
       "      <th>3</th>\n",
       "      <td>3</td>\n",
       "      <td>514</td>\n",
       "      <td>2013-06-15 13:16:02.000</td>\n",
       "      <td>89220af8-21bc-11ea-a13a-137349068a90</td>\n",
       "      <td>9205274a-21bc-11ea-a13a-137349068a90</td>\n",
       "      <td>2048</td>\n",
       "      <td>1536</td>\n",
       "      <td>89220af8-21bc-11ea-a13a-137349068a90.jpg</td>\n",
       "      <td>NaN</td>\n",
       "      <td>2</td>\n",
       "      <td>[]</td>\n",
       "      <td>True</td>\n",
       "    </tr>\n",
       "    <tr>\n",
       "      <th>4</th>\n",
       "      <td>3</td>\n",
       "      <td>229</td>\n",
       "      <td>2015-02-11 00:17:29.000</td>\n",
       "      <td>87e1aec8-21bc-11ea-a13a-137349068a90</td>\n",
       "      <td>90db6b86-21bc-11ea-a13a-137349068a90</td>\n",
       "      <td>1280</td>\n",
       "      <td>1024</td>\n",
       "      <td>87e1aec8-21bc-11ea-a13a-137349068a90.jpg</td>\n",
       "      <td>NaN</td>\n",
       "      <td>0</td>\n",
       "      <td>[[0.228, 0.742, 0.213, 0.244]]</td>\n",
       "      <td>True</td>\n",
       "    </tr>\n",
       "  </tbody>\n",
       "</table>\n",
       "</div>"
      ],
      "text/plain": [
       "   seq_num_frames  location                 datetime  \\\n",
       "0              10        10  2013-03-02 07:58:26.000   \n",
       "1              10        10  2013-03-02 07:58:27.000   \n",
       "2               6       336  2013-05-21 12:29:52.000   \n",
       "3               3       514  2013-06-15 13:16:02.000   \n",
       "4               3       229  2015-02-11 00:17:29.000   \n",
       "\n",
       "                                     id                                seq_id  \\\n",
       "0  87cae3e6-21bc-11ea-a13a-137349068a90  302b4594-7d42-11eb-8fb5-0242ac1c0002   \n",
       "1  87763080-21bc-11ea-a13a-137349068a90  302b4594-7d42-11eb-8fb5-0242ac1c0002   \n",
       "2  86899ed2-21bc-11ea-a13a-137349068a90  9650b9cc-21bc-11ea-a13a-137349068a90   \n",
       "3  89220af8-21bc-11ea-a13a-137349068a90  9205274a-21bc-11ea-a13a-137349068a90   \n",
       "4  87e1aec8-21bc-11ea-a13a-137349068a90  90db6b86-21bc-11ea-a13a-137349068a90   \n",
       "\n",
       "   width  height                                 file_name  sub_location  \\\n",
       "0   1920    1080  87cae3e6-21bc-11ea-a13a-137349068a90.jpg           NaN   \n",
       "1   1920    1080  87763080-21bc-11ea-a13a-137349068a90.jpg           NaN   \n",
       "2   2048    1536  86899ed2-21bc-11ea-a13a-137349068a90.jpg           NaN   \n",
       "3   2048    1536  89220af8-21bc-11ea-a13a-137349068a90.jpg           NaN   \n",
       "4   1280    1024  87e1aec8-21bc-11ea-a13a-137349068a90.jpg           NaN   \n",
       "\n",
       "   seq_frame_num                             box  is_exist  \n",
       "0              7      [[0, 0.525, 0.387, 0.446]]      True  \n",
       "1              8  [[0.355, 0.579, 0.645, 0.393]]      True  \n",
       "2              2                              []      True  \n",
       "3              2                              []      True  \n",
       "4              0  [[0.228, 0.742, 0.213, 0.244]]      True  "
      ]
     },
     "execution_count": 60,
     "metadata": {},
     "output_type": "execute_result"
    }
   ],
   "source": [
    "df"
   ]
  },
  {
   "cell_type": "code",
   "execution_count": 86,
   "metadata": {},
   "outputs": [
    {
     "data": {
      "text/plain": [
       "(None, None, None, None)"
      ]
     },
     "execution_count": 86,
     "metadata": {},
     "output_type": "execute_result"
    }
   ],
   "source": [
    "X,y = df['file_name'], df['box']\n",
    "X_train,X_test,y_train,y_test = train_test_split(X,y,test_size=0.2,random_state=42)\n",
    "X_train.reset_index(drop=True,inplace=True),X_test.reset_index(drop=True,inplace=True),y_train.reset_index(drop=True,inplace=True),y_test.reset_index(drop=True,inplace=True)"
   ]
  },
  {
   "cell_type": "code",
   "execution_count": null,
   "metadata": {
    "collapsed": false,
    "jupyter": {
     "outputs_hidden": false
    }
   },
   "outputs": [],
   "source": [
    "class CustomDataset(Dataset):\n",
    "    def __init__(self, df, transforms=None):\n",
    "        self.labels = df['box']\n",
    "        self.images = df['file_name']\n",
    "        self.transform = transforms\n",
    "\n",
    "    def __len__(self):\n",
    "        return self.images.shape[0]\n",
    "\n",
    "    def __getitem__(self, idx):\n",
    "        path = 'train/' + self.images.iloc[idx]\n",
    "        image = Image.open(path).convert('RGB').resize((1920, 1080))\n",
    "        label = json.loads(self.labels.iloc[idx])\n",
    "        if self.transform:\n",
    "            image = self.transform(image)\n",
    "        return image, label\n",
    "\n",
    "BATCH_SIZE = 70\n",
    "IMAGE_SIZE = 112\n",
    "\n",
    "train_transform = transforms.Compose([\n",
    "    transforms.ToTensor(),\n",
    "    transforms.Normalize([0.485, 0.456, 0.406], [0.229, 0.224, 0.225])\n",
    "])\n",
    "\n",
    "\n",
    "train_data = CustomDataset(df, transforms= train_transform)\n",
    "train_loader = DataLoader(train_data, batch_size=BATCH_SIZE, shuffle=True)"
   ]
  },
  {
   "cell_type": "code",
   "execution_count": 52,
   "metadata": {},
   "outputs": [],
   "source": [
    "train_transform = transforms.Compose([\n",
    "    transforms.ToTensor(),\n",
    "    transforms.Normalize([0.485, 0.456, 0.406], [0.229, 0.224, 0.225])\n",
    "])\n",
    "def get_image(path):\n",
    "    path = 'train/' + path\n",
    "    image = Image.open(path).convert('RGB').resize((1920, 1080))\n",
    "    return train_transform(image)"
   ]
  },
  {
   "cell_type": "markdown",
   "metadata": {},
   "source": [
    "# Model"
   ]
  },
  {
   "cell_type": "code",
   "execution_count": 92,
   "metadata": {},
   "outputs": [
    {
     "ename": "ValueError",
     "evalue": "expected sequence of length 4 at dim 1 (got 1)",
     "output_type": "error",
     "traceback": [
      "\u001b[0;31m---------------------------------------------------------------------------\u001b[0m",
      "\u001b[0;31mValueError\u001b[0m                                Traceback (most recent call last)",
      "\u001b[0;32m/tmp/ipykernel_24598/971034264.py\u001b[0m in \u001b[0;36m<module>\u001b[0;34m\u001b[0m\n\u001b[1;32m      3\u001b[0m \u001b[0;34m\u001b[0m\u001b[0m\n\u001b[1;32m      4\u001b[0m \u001b[0mboxes\u001b[0m \u001b[0;34m=\u001b[0m \u001b[0;34m[\u001b[0m\u001b[0mlist\u001b[0m\u001b[0;34m(\u001b[0m\u001b[0mmap\u001b[0m\u001b[0;34m(\u001b[0m\u001b[0;32mlambda\u001b[0m \u001b[0ms\u001b[0m\u001b[0;34m:\u001b[0m \u001b[0mfloat\u001b[0m\u001b[0;34m(\u001b[0m\u001b[0ms\u001b[0m\u001b[0;34m)\u001b[0m \u001b[0;32mif\u001b[0m \u001b[0mlen\u001b[0m\u001b[0;34m(\u001b[0m\u001b[0ms\u001b[0m\u001b[0;34m)\u001b[0m\u001b[0;34m!=\u001b[0m\u001b[0;36m0\u001b[0m \u001b[0;32melse\u001b[0m \u001b[0;34m(\u001b[0m\u001b[0;36m0\u001b[0m\u001b[0;34m,\u001b[0m\u001b[0;36m0\u001b[0m\u001b[0;34m,\u001b[0m\u001b[0;36m0\u001b[0m\u001b[0;34m,\u001b[0m\u001b[0;36m0\u001b[0m\u001b[0;34m)\u001b[0m\u001b[0;34m,\u001b[0m\u001b[0my\u001b[0m\u001b[0;34m[\u001b[0m\u001b[0;36m2\u001b[0m\u001b[0;34m:\u001b[0m\u001b[0;34m-\u001b[0m\u001b[0;36m2\u001b[0m\u001b[0;34m]\u001b[0m\u001b[0;34m.\u001b[0m\u001b[0msplit\u001b[0m\u001b[0;34m(\u001b[0m\u001b[0;34m', '\u001b[0m\u001b[0;34m)\u001b[0m\u001b[0;34m)\u001b[0m\u001b[0;34m)\u001b[0m \u001b[0;32mfor\u001b[0m \u001b[0my\u001b[0m \u001b[0;32min\u001b[0m \u001b[0my_train\u001b[0m\u001b[0;34m]\u001b[0m\u001b[0;34m\u001b[0m\u001b[0;34m\u001b[0m\u001b[0m\n\u001b[0;32m----> 5\u001b[0;31m \u001b[0mboxes\u001b[0m \u001b[0;34m=\u001b[0m \u001b[0mtorch\u001b[0m\u001b[0;34m.\u001b[0m\u001b[0mTensor\u001b[0m\u001b[0;34m(\u001b[0m\u001b[0mboxes\u001b[0m\u001b[0;34m)\u001b[0m\u001b[0;34m\u001b[0m\u001b[0;34m\u001b[0m\u001b[0m\n\u001b[0m\u001b[1;32m      6\u001b[0m \u001b[0mlabels\u001b[0m \u001b[0;34m=\u001b[0m \u001b[0mtorch\u001b[0m\u001b[0;34m.\u001b[0m\u001b[0mTensor\u001b[0m\u001b[0;34m(\u001b[0m\u001b[0;34m[\u001b[0m\u001b[0;36m1\u001b[0m \u001b[0;32mfor\u001b[0m \u001b[0my\u001b[0m \u001b[0;32min\u001b[0m \u001b[0my_train\u001b[0m\u001b[0;34m]\u001b[0m\u001b[0;34m)\u001b[0m\u001b[0;34m\u001b[0m\u001b[0;34m\u001b[0m\u001b[0m\n\u001b[1;32m      7\u001b[0m \u001b[0my_train\u001b[0m \u001b[0;34m=\u001b[0m \u001b[0;34m{\u001b[0m\u001b[0;34m'boxes'\u001b[0m\u001b[0;34m:\u001b[0m \u001b[0mboxes\u001b[0m\u001b[0;34m,\u001b[0m\u001b[0;34m'labels'\u001b[0m\u001b[0;34m:\u001b[0m\u001b[0mlabels\u001b[0m\u001b[0;34m}\u001b[0m\u001b[0;34m\u001b[0m\u001b[0;34m\u001b[0m\u001b[0m\n",
      "\u001b[0;31mValueError\u001b[0m: expected sequence of length 4 at dim 1 (got 1)"
     ]
    }
   ],
   "source": [
    "X_images_train = [get_image(path) for path in X_train]\n",
    "X_images_test = [get_image(path) for path in X_test]\n",
    "\n",
    "boxes = [list(map(lambda s: float(s) if len(s)!=0 else 0,y[2:-2].split(', '))) for y in y_train]\n",
    "boxes = torch.Tensor(boxes)\n",
    "labels = torch.Tensor([1 for y in y_train])\n",
    "y_train = {'boxes': boxes,'labels':labels}\n",
    "\n",
    "boxes = [list(map(lambda s: float(s) if len(s)!=0 else 0,y[2:-2].split(', '))) for y in y_test]\n",
    "boxes = torch.Tensor(boxes)\n",
    "labels = torch.Tensor([1 for y in y_test])\n",
    "y_test = {'boxes': boxes,'labels':labels}"
   ]
  },
  {
   "cell_type": "code",
   "execution_count": 93,
   "metadata": {},
   "outputs": [
    {
     "data": {
      "text/plain": [
       "[[0.228, 0.742, 0.213, 0.244],\n",
       " [(0, 0, 0, 0)],\n",
       " [0.0, 0.525, 0.387, 0.446],\n",
       " [(0, 0, 0, 0)]]"
      ]
     },
     "execution_count": 93,
     "metadata": {},
     "output_type": "execute_result"
    }
   ],
   "source": [
    "boxes"
   ]
  },
  {
   "cell_type": "code",
   "execution_count": null,
   "metadata": {},
   "outputs": [],
   "source": [
    "model = fasterrcnn_resnet50_fpn()\n",
    "output = model(X_images_train,y_train)\n",
    "model.eval()\n",
    "model(X_images_test)"
   ]
  },
  {
   "cell_type": "code",
   "execution_count": null,
   "metadata": {},
   "outputs": [],
   "source": []
  }
 ],
 "metadata": {
  "kernelspec": {
   "display_name": "Python 3 (ipykernel)",
   "language": "python",
   "name": "python3"
  },
  "language_info": {
   "codemirror_mode": {
    "name": "ipython",
    "version": 3
   },
   "file_extension": ".py",
   "mimetype": "text/x-python",
   "name": "python",
   "nbconvert_exporter": "python",
   "pygments_lexer": "ipython3",
   "version": "3.8.8"
  }
 },
 "nbformat": 4,
 "nbformat_minor": 4
}
